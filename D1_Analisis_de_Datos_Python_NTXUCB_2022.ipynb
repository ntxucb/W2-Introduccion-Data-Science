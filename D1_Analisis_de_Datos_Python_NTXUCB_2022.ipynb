{
  "nbformat": 4,
  "nbformat_minor": 0,
  "metadata": {
    "colab": {
      "name": "D1_Analisis_de_Datos_Python_NTXUCB_2022.ipynb",
      "provenance": [],
      "collapsed_sections": [],
      "include_colab_link": true
    },
    "kernelspec": {
      "name": "python3",
      "display_name": "Python 3"
    },
    "language_info": {
      "name": "python"
    }
  },
  "cells": [
    {
      "cell_type": "markdown",
      "metadata": {
        "id": "view-in-github",
        "colab_type": "text"
      },
      "source": [
        "<a href=\"https://colab.research.google.com/github/ntxucb/W2-Introduccion-Data-Science/blob/main/D1_Analisis_de_Datos_Python_NTXUCB_2022.ipynb\" target=\"_parent\"><img src=\"https://colab.research.google.com/assets/colab-badge.svg\" alt=\"Open In Colab\"/></a>"
      ]
    },
    {
      "cell_type": "markdown",
      "metadata": {
        "id": "h7YpNYY3UJjc"
      },
      "source": [
        "# Workshop - Análisis de Datos con Python - NeuroTechUCB\n",
        "\n",
        "## ¿Necesito el Análisis de Datos?\n",
        "\n",
        "<img src=\"https://miro.medium.com/max/565/1*x49QbCxxTYScuV728oBelw.jpeg\" width=\"400\">\n",
        "<br>\n",
        "<img src=\"https://i.ibb.co/JkfqHqk/nma.jpg\" alt=\"nma\" border=\"0\" width=\"400\">\n",
        "<br>\n",
        "<img src=\"https://i.redd.it/nc5ua4x8lfg31.png\" width=\"400\">\n",
        "<br>\n",
        "<img src=\"https://encrypted-tbn0.gstatic.com/images?q=tbn:ANd9GcSytVPieZUKXxHDkSVudwmW8NNAVy5yo7e2Ng&usqp=CAU\" width=\"400\">\n",
        "\n",
        "## ¿Por qué Python?\n",
        "\n",
        "<img src=\"https://miro.medium.com/max/1200/0*GZWyB9r_3sZPFjly.png\" width=\"400\">\n",
        "<br>\n",
        "\n",
        "<img src=\"https://miro.medium.com/max/1400/1*PMvSWYzafqUVMsmQDsWEPA.png\" width=\"400\">\n",
        "\n",
        "## ¿Qué es una libreria?\n",
        "\n",
        "Una librería, en programación, es una colección de código previamente escrito (usualmente expuesto como funciones y objetos) que nos ayudan a realizar tareas \"comunes\" o \"tradicionales\" de forma rápida y optimizada.\n",
        "\n",
        "## ¿Qué es una función?\n",
        "\n",
        "Una función en programación es similar al concepto que se maneja en cualquier otra rama del conocimiento se puede modelar como una máquina que transforma ciertas entradas en ciertas salidas.\n",
        "\n",
        "<img src=\"https://s3-us-west-2.amazonaws.com/courses-images/wp-content/uploads/sites/1861/2017/06/23161835/apple-slicing-function.png\" width=\"500\" >\n",
        "\n",
        "Una función en Pyhton se ve de la siguiente manera:\n",
        "\n",
        "<img src=\"https://i.ibb.co/nfQpPbX/functions.png\" width=\"500\">"
      ]
    },
    {
      "cell_type": "code",
      "source": [
        "# Definicion de la funcion\n",
        "def sumar_dos_numeros(a, b):\n",
        "  suma = a + b\n",
        "  return suma"
      ],
      "metadata": {
        "id": "1L9V7_0qMmJg"
      },
      "execution_count": null,
      "outputs": []
    },
    {
      "cell_type": "code",
      "source": [
        "# Llamada a la funcion\n",
        "num1 = 45\n",
        "num2 = 12\n",
        "sumar_dos_numeros(num1, num2)"
      ],
      "metadata": {
        "colab": {
          "base_uri": "https://localhost:8080/"
        },
        "id": "3OoxRdOaM2pK",
        "outputId": "afc0ab68-49e8-4661-b53d-afb6c1180750"
      },
      "execution_count": null,
      "outputs": [
        {
          "output_type": "execute_result",
          "data": {
            "text/plain": [
              "57"
            ]
          },
          "metadata": {},
          "execution_count": 5
        }
      ]
    },
    {
      "cell_type": "markdown",
      "source": [
        "## Libreria NumPy\n",
        "\n",
        "<img src=\"https://upload.wikimedia.org/wikipedia/commons/thumb/3/31/NumPy_logo_2020.svg/1200px-NumPy_logo_2020.svg.png\" height=\"100\">\n",
        "\n",
        "NumPy es el nombre corto para **Numerical Python** y es una libreria que nos ayuda a manejar **arreglos multidimensionales** de datos.\n",
        "\n",
        "Esta libreria es importante para el Análisis de Datos debido a que muchos datasets (sobre todo de señales de EEG o MEG) pueden ser transformados a arreglos multidimensionales. Además que las librerias que se verán en las próximas sesiones estan basadas en NumPy."
      ],
      "metadata": {
        "id": "6ddsWFymNAgO"
      }
    },
    {
      "cell_type": "code",
      "metadata": {
        "colab": {
          "base_uri": "https://localhost:8080/"
        },
        "id": "1JhRicynUEib",
        "outputId": "97c4af9d-993d-4492-fb99-c5d761bd2602"
      },
      "source": [
        "# Importamos la libreria\n",
        "import numpy as np\n",
        "\n",
        "mi_arreglo = np.arange(1,50,2) # arreglo con los numeros del 1 al 50 saltando de 2 en 2\n",
        "mi_arreglo"
      ],
      "execution_count": null,
      "outputs": [
        {
          "output_type": "execute_result",
          "data": {
            "text/plain": [
              "array([ 1,  3,  5,  7,  9, 11, 13, 15, 17, 19, 21, 23, 25, 27, 29, 31, 33,\n",
              "       35, 37, 39, 41, 43, 45, 47, 49])"
            ]
          },
          "metadata": {},
          "execution_count": 14
        }
      ]
    },
    {
      "cell_type": "code",
      "metadata": {
        "colab": {
          "base_uri": "https://localhost:8080/"
        },
        "id": "C7fQZ_-DVqFS",
        "outputId": "d1afdc7f-1556-4fdc-9dd7-9a7ae557c8c7"
      },
      "source": [
        "# Las listas de Python no son lo mismo que los ARREGLOS de NumPy\n",
        "mi_lista = list(range(1,50,2))\n",
        "mi_lista"
      ],
      "execution_count": null,
      "outputs": [
        {
          "output_type": "execute_result",
          "data": {
            "text/plain": [
              "[1,\n",
              " 3,\n",
              " 5,\n",
              " 7,\n",
              " 9,\n",
              " 11,\n",
              " 13,\n",
              " 15,\n",
              " 17,\n",
              " 19,\n",
              " 21,\n",
              " 23,\n",
              " 25,\n",
              " 27,\n",
              " 29,\n",
              " 31,\n",
              " 33,\n",
              " 35,\n",
              " 37,\n",
              " 39,\n",
              " 41,\n",
              " 43,\n",
              " 45,\n",
              " 47,\n",
              " 49]"
            ]
          },
          "metadata": {},
          "execution_count": 16
        }
      ]
    },
    {
      "cell_type": "code",
      "metadata": {
        "colab": {
          "base_uri": "https://localhost:8080/"
        },
        "id": "5Hvl7Sj7WFDT",
        "outputId": "43abdca0-afd5-4755-a535-759c53051518"
      },
      "source": [
        "print(\"El tipo de dato del arreglo de numpy es\",type(mi_arreglo))\n",
        "print(\"El tipo de dato de la lista es\",type(mi_lista))"
      ],
      "execution_count": null,
      "outputs": [
        {
          "output_type": "stream",
          "name": "stdout",
          "text": [
            "El tipo de dato del arreglo de numpy es <class 'numpy.ndarray'>\n",
            "El tipo de dato de la lista es <class 'list'>\n"
          ]
        }
      ]
    },
    {
      "cell_type": "code",
      "metadata": {
        "colab": {
          "base_uri": "https://localhost:8080/"
        },
        "id": "l9p3CvZqWZ1q",
        "outputId": "fe842c5f-4def-4694-c3cd-f1b0e6722811"
      },
      "source": [
        "# Por ejemplo\n",
        "mi_arreglo+10"
      ],
      "execution_count": null,
      "outputs": [
        {
          "output_type": "execute_result",
          "data": {
            "text/plain": [
              "array([11, 13, 15, 17, 19, 21, 23, 25, 27, 29, 31, 33, 35, 37, 39, 41, 43,\n",
              "       45, 47, 49, 51, 53, 55, 57, 59])"
            ]
          },
          "metadata": {},
          "execution_count": 19
        }
      ]
    },
    {
      "cell_type": "code",
      "metadata": {
        "colab": {
          "base_uri": "https://localhost:8080/"
        },
        "id": "CRWzBc_sWjQR",
        "outputId": "dae3af6e-a4f9-4aff-a6be-86b557d9c2ef"
      },
      "source": [
        "# Operaciones con numpy\n",
        "arreglo1 = mi_arreglo + 10\n",
        "arreglo2 = mi_arreglo * 5\n",
        "arreglo3 = arreglo1 + arreglo2\n",
        "arreglo3"
      ],
      "execution_count": null,
      "outputs": [
        {
          "output_type": "execute_result",
          "data": {
            "text/plain": [
              "array([ 16,  28,  40,  52,  64,  76,  88, 100, 112, 124, 136, 148, 160,\n",
              "       172, 184, 196, 208, 220, 232, 244, 256, 268, 280, 292, 304])"
            ]
          },
          "metadata": {},
          "execution_count": 23
        }
      ]
    },
    {
      "cell_type": "code",
      "metadata": {
        "colab": {
          "base_uri": "https://localhost:8080/"
        },
        "id": "mVTqU8ApalLX",
        "outputId": "9171b975-8374-4504-d70a-6887a6fa7bba"
      },
      "source": [
        "# Puede comparar elemento con elemento\n",
        "arreglo1 > arreglo2"
      ],
      "execution_count": null,
      "outputs": [
        {
          "output_type": "execute_result",
          "data": {
            "text/plain": [
              "array([ True, False, False, False, False, False, False, False, False,\n",
              "       False, False, False, False, False, False, False, False, False,\n",
              "       False, False, False, False, False, False, False])"
            ]
          },
          "metadata": {},
          "execution_count": 9
        }
      ]
    },
    {
      "cell_type": "code",
      "metadata": {
        "colab": {
          "base_uri": "https://localhost:8080/"
        },
        "id": "AJmLZ0FJcAYV",
        "outputId": "9f95a42f-9994-4e2e-8b78-ba858c8e887e"
      },
      "source": [
        "# Obtener el minimo de un arreglo\n",
        "mi_arreglo.min()"
      ],
      "execution_count": null,
      "outputs": [
        {
          "output_type": "execute_result",
          "data": {
            "text/plain": [
              "1"
            ]
          },
          "metadata": {},
          "execution_count": 25
        }
      ]
    },
    {
      "cell_type": "code",
      "metadata": {
        "colab": {
          "base_uri": "https://localhost:8080/"
        },
        "id": "-D7CUOkJce21",
        "outputId": "992f1d34-ad8f-4d8c-c19a-c24a219c1369"
      },
      "source": [
        "# Obtener el maximo de un arreglo\n",
        "mi_arreglo.max()"
      ],
      "execution_count": null,
      "outputs": [
        {
          "output_type": "execute_result",
          "data": {
            "text/plain": [
              "49"
            ]
          },
          "metadata": {},
          "execution_count": 26
        }
      ]
    },
    {
      "cell_type": "code",
      "metadata": {
        "colab": {
          "base_uri": "https://localhost:8080/"
        },
        "id": "twTYkasnczNS",
        "outputId": "16c1cb57-e8d0-4af1-abbf-8da470cf06eb"
      },
      "source": [
        "# Obtener el promedio\n",
        "mi_arreglo.mean()"
      ],
      "execution_count": null,
      "outputs": [
        {
          "output_type": "execute_result",
          "data": {
            "text/plain": [
              "25.0"
            ]
          },
          "metadata": {},
          "execution_count": 27
        }
      ]
    },
    {
      "cell_type": "code",
      "metadata": {
        "colab": {
          "base_uri": "https://localhost:8080/"
        },
        "id": "DeHAStw4dDQV",
        "outputId": "11ef3c5d-7df9-41b6-c1a3-ca13a08bdaee"
      },
      "source": [
        "# Obtener la suma del arreglo\n",
        "mi_arreglo.sum()"
      ],
      "execution_count": null,
      "outputs": [
        {
          "output_type": "execute_result",
          "data": {
            "text/plain": [
              "625"
            ]
          },
          "metadata": {},
          "execution_count": 28
        }
      ]
    },
    {
      "cell_type": "code",
      "metadata": {
        "colab": {
          "base_uri": "https://localhost:8080/"
        },
        "id": "6OLHU4lDdJii",
        "outputId": "8e56e27b-3a3f-4cfa-9ac1-b08848bb4517"
      },
      "source": [
        "arr = np.random.randint(1,20,15)\n",
        "arr"
      ],
      "execution_count": null,
      "outputs": [
        {
          "output_type": "execute_result",
          "data": {
            "text/plain": [
              "array([12,  4, 18, 14,  9,  8, 16, 18, 19, 12,  7, 15,  1, 17,  8])"
            ]
          },
          "metadata": {},
          "execution_count": 36
        }
      ]
    },
    {
      "cell_type": "code",
      "metadata": {
        "colab": {
          "base_uri": "https://localhost:8080/"
        },
        "id": "cSKtMgRedjnc",
        "outputId": "b1ccb3d8-fb0d-45f2-91e1-aa1d4c1fbc8d"
      },
      "source": [
        "# Ordenar el arreglo\n",
        "arr.sort()\n",
        "arr"
      ],
      "execution_count": null,
      "outputs": [
        {
          "output_type": "execute_result",
          "data": {
            "text/plain": [
              "array([ 1,  4,  7,  8,  8,  9, 12, 12, 14, 15, 16, 17, 18, 18, 19])"
            ]
          },
          "metadata": {},
          "execution_count": 37
        }
      ]
    },
    {
      "cell_type": "markdown",
      "metadata": {
        "id": "LqYQm1e2XPwZ"
      },
      "source": [
        "## Arreglos Multidimensionales\n",
        "\n",
        "Los arreglos multidimensionales no son mas que *arreglos de arreglos* y pueden tener las formas que tienen en la imagen.\n",
        "\n",
        "<img src=\"https://i.ibb.co/bmQp4xQ/arrays.png\" height=\"300\">"
      ]
    },
    {
      "cell_type": "code",
      "metadata": {
        "colab": {
          "base_uri": "https://localhost:8080/"
        },
        "id": "nAQFhC69XqCZ",
        "outputId": "062fc1bc-65d1-486c-a685-9104def997ee"
      },
      "source": [
        "# Arreglo 1D\n",
        "arreglo_1d = np.array([7,2,9,10])\n",
        "arreglo_1d"
      ],
      "execution_count": null,
      "outputs": [
        {
          "output_type": "execute_result",
          "data": {
            "text/plain": [
              "array([ 7,  2,  9, 10])"
            ]
          },
          "metadata": {},
          "execution_count": 38
        }
      ]
    },
    {
      "cell_type": "code",
      "metadata": {
        "colab": {
          "base_uri": "https://localhost:8080/"
        },
        "id": "7f0yppmQYDFL",
        "outputId": "9f34d1fc-02e4-43fe-c63c-4b603ced8ce0"
      },
      "source": [
        "# Arreglo 2D\n",
        "arreglo_2d = np.array([ [5.2,3.0,4.5] , [9.1,0.1,0.3] ])\n",
        "arreglo_2d"
      ],
      "execution_count": null,
      "outputs": [
        {
          "output_type": "execute_result",
          "data": {
            "text/plain": [
              "array([[5.2, 3. , 4.5],\n",
              "       [9.1, 0.1, 0.3]])"
            ]
          },
          "metadata": {},
          "execution_count": 39
        }
      ]
    },
    {
      "cell_type": "code",
      "metadata": {
        "colab": {
          "base_uri": "https://localhost:8080/"
        },
        "id": "cgQKRoOMY5h6",
        "outputId": "a36ccdbb-dbaf-4faa-a4a1-38c56d54b89a"
      },
      "source": [
        "print(arreglo_1d.shape)\n",
        "print(arreglo_2d.shape)"
      ],
      "execution_count": null,
      "outputs": [
        {
          "output_type": "stream",
          "name": "stdout",
          "text": [
            "(4,)\n",
            "(2, 3)\n"
          ]
        }
      ]
    },
    {
      "cell_type": "code",
      "metadata": {
        "colab": {
          "base_uri": "https://localhost:8080/"
        },
        "id": "ueJ5b0DTBgsT",
        "outputId": "d1bcf51f-93a1-44c9-db80-bfb466c1e202"
      },
      "source": [
        "# Crear un arreglo solo con unos\n",
        "unos = np.ones(5)\n",
        "unos"
      ],
      "execution_count": null,
      "outputs": [
        {
          "output_type": "execute_result",
          "data": {
            "text/plain": [
              "array([1., 1., 1., 1., 1.])"
            ]
          },
          "metadata": {},
          "execution_count": 42
        }
      ]
    },
    {
      "cell_type": "code",
      "metadata": {
        "colab": {
          "base_uri": "https://localhost:8080/"
        },
        "id": "RgCCy4zDZkQD",
        "outputId": "1eaa4505-ad7f-4c6c-b686-910c54a8817f"
      },
      "source": [
        "# Crear un arreglo solo de ceros\n",
        "ceros = np.zeros((5,7))\n",
        "ceros"
      ],
      "execution_count": null,
      "outputs": [
        {
          "output_type": "execute_result",
          "data": {
            "text/plain": [
              "array([[0., 0., 0., 0., 0., 0., 0.],\n",
              "       [0., 0., 0., 0., 0., 0., 0.],\n",
              "       [0., 0., 0., 0., 0., 0., 0.],\n",
              "       [0., 0., 0., 0., 0., 0., 0.],\n",
              "       [0., 0., 0., 0., 0., 0., 0.]])"
            ]
          },
          "metadata": {},
          "execution_count": 43
        }
      ]
    },
    {
      "cell_type": "code",
      "metadata": {
        "colab": {
          "base_uri": "https://localhost:8080/"
        },
        "id": "SsjcLZfOZoEF",
        "outputId": "2d5d5156-a1ff-437b-9b30-4daeb6711b19"
      },
      "source": [
        "# Crear un arreglo de numeros aleatorios\n",
        "aleatorios = np.random.rand(2,5,4)\n",
        "aleatorios"
      ],
      "execution_count": null,
      "outputs": [
        {
          "output_type": "execute_result",
          "data": {
            "text/plain": [
              "array([[[0.94738551, 0.17982155, 0.47132842, 0.41493558],\n",
              "        [0.85324683, 0.53589251, 0.83345666, 0.73194881],\n",
              "        [0.51638099, 0.86693345, 0.37678835, 0.3465138 ],\n",
              "        [0.17015358, 0.2716704 , 0.38801232, 0.62647602],\n",
              "        [0.50047892, 0.83991267, 0.35252829, 0.24536343]],\n",
              "\n",
              "       [[0.40107431, 0.38735255, 0.28737797, 0.36958216],\n",
              "        [0.56220128, 0.32456132, 0.94342214, 0.26225715],\n",
              "        [0.73567617, 0.48741345, 0.06070371, 0.69109385],\n",
              "        [0.43245541, 0.67063941, 0.70794792, 0.63257607],\n",
              "        [0.07649292, 0.26516573, 0.14791464, 0.00650775]]])"
            ]
          },
          "metadata": {},
          "execution_count": 47
        }
      ]
    },
    {
      "cell_type": "markdown",
      "source": [
        "### Ejercicio 1\n",
        "Como crearias un arreglo de numpy con los numeros del 5 al 12\n"
      ],
      "metadata": {
        "id": "UUQ2-lxqRryU"
      }
    },
    {
      "cell_type": "code",
      "metadata": {
        "id": "sZP98Mg3bXus"
      },
      "source": [
        ""
      ],
      "execution_count": null,
      "outputs": []
    },
    {
      "cell_type": "markdown",
      "source": [
        "## Reshape de un arreglo de numpy (np.reshape)\n",
        "\n",
        "[Referencia a la documentación](https://numpy.org/doc/stable/reference/generated/numpy.reshape.html)\n",
        "\n",
        "Hacer un reshape de un arreglo de numpy es cambiar el shape de un arreglo es decir podemos \"reordenar\" los arreglos de numpy aumentando sus dimensiones o reduciendolas."
      ],
      "metadata": {
        "id": "RRSkODScR50b"
      }
    },
    {
      "cell_type": "code",
      "source": [
        "# Cambiando un arreglo de 3 dimensiones a un arreglo 2D\n",
        "arreglo_3d = np.random.rand(4,3,2)\n",
        "arreglo_2d = np.reshape(arreglo_3d, (12,2))\n",
        "print('Arreglo 3D')\n",
        "print(arreglo_3d)\n",
        "print('Arreglo 2D')\n",
        "print(arreglo_2d)"
      ],
      "metadata": {
        "colab": {
          "base_uri": "https://localhost:8080/"
        },
        "id": "GWLMaS3TSQfj",
        "outputId": "2775f884-dbd8-456d-bd31-a1897fb1dae0"
      },
      "execution_count": null,
      "outputs": [
        {
          "output_type": "stream",
          "name": "stdout",
          "text": [
            "Arreglo 3D\n",
            "[[[0.45495087 0.62690813]\n",
            "  [0.82461421 0.06986207]\n",
            "  [0.661009   0.51242156]]\n",
            "\n",
            " [[0.87972016 0.69895597]\n",
            "  [0.69327542 0.17557998]\n",
            "  [0.5675243  0.4868568 ]]\n",
            "\n",
            " [[0.96986159 0.26686396]\n",
            "  [0.84847731 0.45324728]\n",
            "  [0.85054928 0.34722659]]\n",
            "\n",
            " [[0.96976545 0.02373614]\n",
            "  [0.81119499 0.37532195]\n",
            "  [0.20318604 0.48917439]]]\n",
            "Arreglo 2D\n",
            "[[0.45495087 0.62690813]\n",
            " [0.82461421 0.06986207]\n",
            " [0.661009   0.51242156]\n",
            " [0.87972016 0.69895597]\n",
            " [0.69327542 0.17557998]\n",
            " [0.5675243  0.4868568 ]\n",
            " [0.96986159 0.26686396]\n",
            " [0.84847731 0.45324728]\n",
            " [0.85054928 0.34722659]\n",
            " [0.96976545 0.02373614]\n",
            " [0.81119499 0.37532195]\n",
            " [0.20318604 0.48917439]]\n"
          ]
        }
      ]
    },
    {
      "cell_type": "code",
      "source": [
        "# Cambiando un arreglo 1D a un arreglo 3D\n",
        "arreglo_1d = np.random.rand(18)\n",
        "arreglo_3d = np.reshape(arreglo_1d, (3,3,2))\n",
        "print('Arreglo 1D')\n",
        "print(arreglo_1d)\n",
        "print('Arreglo 3D')\n",
        "print(arreglo_3d)"
      ],
      "metadata": {
        "colab": {
          "base_uri": "https://localhost:8080/"
        },
        "id": "ocw4G6xATIFs",
        "outputId": "3dec605c-17e5-407d-f5e3-95795fb2e55c"
      },
      "execution_count": null,
      "outputs": [
        {
          "output_type": "stream",
          "name": "stdout",
          "text": [
            "Arreglo 1D\n",
            "[0.87104947 0.23747786 0.1466366  0.7051252  0.32007247 0.77685004\n",
            " 0.93532559 0.05797861 0.27585275 0.88752243 0.58262733 0.20546383\n",
            " 0.88883089 0.61643078 0.29969332 0.01692815 0.13287768 0.00159403]\n",
            "Arreglo 3D\n",
            "[[[0.87104947 0.23747786]\n",
            "  [0.1466366  0.7051252 ]\n",
            "  [0.32007247 0.77685004]]\n",
            "\n",
            " [[0.93532559 0.05797861]\n",
            "  [0.27585275 0.88752243]\n",
            "  [0.58262733 0.20546383]]\n",
            "\n",
            " [[0.88883089 0.61643078]\n",
            "  [0.29969332 0.01692815]\n",
            "  [0.13287768 0.00159403]]]\n"
          ]
        }
      ]
    },
    {
      "cell_type": "markdown",
      "source": [
        "### Ejercicio 2\n",
        "Realiza un código para producir un arreglo de numpy con el siguiente contenido:\n",
        "\n",
        "<img src=\"https://i.ibb.co/w7YkyZY/matrix1.png\" width=\"300\">"
      ],
      "metadata": {
        "id": "1cV0HFnWTtlx"
      }
    },
    {
      "cell_type": "code",
      "source": [
        ""
      ],
      "metadata": {
        "id": "Ape6fJK_U4Gs"
      },
      "execution_count": null,
      "outputs": []
    },
    {
      "cell_type": "markdown",
      "metadata": {
        "id": "mt-c7ey4avEA"
      },
      "source": [
        "## Indices y Slicing en Arreglos\n",
        "\n",
        "Al igual que en las listas los arreglos siguen la misma convención de indices y posiciones, sin embargo ahora en una posición se puede tener otro arreglo, como se muestra en los siguientes ejemplos."
      ]
    },
    {
      "cell_type": "code",
      "metadata": {
        "colab": {
          "base_uri": "https://localhost:8080/"
        },
        "id": "Sn7uigWXZw6i",
        "outputId": "2842cba7-59bf-4b0d-c5da-da35c3576bb9"
      },
      "source": [
        "# Obtendremos la posicion 0, que es un arreglo de tamaño 2,5\n",
        "aleatorios = np.random.rand(2,5)\n",
        "aleatorios"
      ],
      "execution_count": null,
      "outputs": [
        {
          "output_type": "execute_result",
          "data": {
            "text/plain": [
              "array([[0.64617727, 0.27142722, 0.85888689, 0.36125634, 0.10556385],\n",
              "       [0.70014658, 0.64980645, 0.47332203, 0.22934902, 0.51418523]])"
            ]
          },
          "metadata": {},
          "execution_count": 54
        }
      ]
    },
    {
      "cell_type": "code",
      "source": [
        "aleatorios[0]"
      ],
      "metadata": {
        "colab": {
          "base_uri": "https://localhost:8080/"
        },
        "id": "W34nVRfygfDJ",
        "outputId": "0e9f6e31-9657-41df-98e8-d4d033716a0e"
      },
      "execution_count": null,
      "outputs": [
        {
          "output_type": "execute_result",
          "data": {
            "text/plain": [
              "array([0.64617727, 0.27142722, 0.85888689, 0.36125634, 0.10556385])"
            ]
          },
          "metadata": {},
          "execution_count": 55
        }
      ]
    },
    {
      "cell_type": "code",
      "metadata": {
        "colab": {
          "base_uri": "https://localhost:8080/"
        },
        "id": "lhfLhk_ACKFV",
        "outputId": "bd4ca104-8b0c-460f-bd52-b2ee28a6d41a"
      },
      "source": [
        "aleatorios[0][3]"
      ],
      "execution_count": null,
      "outputs": [
        {
          "output_type": "execute_result",
          "data": {
            "text/plain": [
              "0.36125633866585016"
            ]
          },
          "metadata": {},
          "execution_count": 56
        }
      ]
    },
    {
      "cell_type": "code",
      "metadata": {
        "colab": {
          "base_uri": "https://localhost:8080/"
        },
        "id": "mBQ_tJlVbNFd",
        "outputId": "9cf1ddbf-d78d-4654-9007-77c4d8d7a96a"
      },
      "source": [
        "numeros = np.arange(0,28,2)\n",
        "numeros"
      ],
      "execution_count": null,
      "outputs": [
        {
          "output_type": "execute_result",
          "data": {
            "text/plain": [
              "array([ 0,  2,  4,  6,  8, 10, 12, 14, 16, 18, 20, 22, 24, 26])"
            ]
          },
          "metadata": {},
          "execution_count": 59
        }
      ]
    },
    {
      "cell_type": "code",
      "metadata": {
        "colab": {
          "base_uri": "https://localhost:8080/"
        },
        "id": "pxWXwGrcbmJh",
        "outputId": "7b1d9db9-3277-4b67-8824-6f56a088925d"
      },
      "source": [
        "# Slice de un arreglo unidimensional [inicio:final:paso]\n",
        "numeros[4:10:2]"
      ],
      "execution_count": null,
      "outputs": [
        {
          "output_type": "execute_result",
          "data": {
            "text/plain": [
              "array([ 8, 12, 16])"
            ]
          },
          "metadata": {},
          "execution_count": 60
        }
      ]
    },
    {
      "cell_type": "code",
      "source": [
        "# Slice de un arreglo multidimensional\n",
        "aleatorios = np.random.rand(3,4,5)\n",
        "print('Arreglo Original')\n",
        "print(aleatorios)\n",
        "# Slice multidimensional\n",
        "print('Slice')\n",
        "slice_aleatorios = aleatorios[1, 0:2, 1:3]\n",
        "print(slice_aleatorios)"
      ],
      "metadata": {
        "colab": {
          "base_uri": "https://localhost:8080/"
        },
        "id": "kzXY4vpcVfh1",
        "outputId": "90d62b24-0bf7-4915-d3fc-81ab830fc517"
      },
      "execution_count": null,
      "outputs": [
        {
          "output_type": "stream",
          "name": "stdout",
          "text": [
            "Arreglo Original\n",
            "[[[0.23860882 0.0200997  0.35854385 0.89481405 0.02878954]\n",
            "  [0.61878118 0.44280347 0.18454364 0.28203873 0.16693602]\n",
            "  [0.37690536 0.80720222 0.81246327 0.70810192 0.3392793 ]\n",
            "  [0.26025466 0.52848924 0.22356965 0.99852401 0.44677931]]\n",
            "\n",
            " [[0.18220202 0.53366042 0.87548025 0.58780079 0.02702968]\n",
            "  [0.76863632 0.87863997 0.88483675 0.61201961 0.43732547]\n",
            "  [0.80122014 0.18581021 0.97629654 0.10169817 0.90597394]\n",
            "  [0.19386185 0.6597007  0.26902343 0.5972404  0.45947224]]\n",
            "\n",
            " [[0.16463461 0.20690883 0.1818535  0.37992897 0.76202402]\n",
            "  [0.69256165 0.2210195  0.94013235 0.1891494  0.64036563]\n",
            "  [0.22073719 0.20372537 0.52591358 0.10321855 0.41548155]\n",
            "  [0.27025645 0.88343166 0.56234509 0.79165788 0.43723478]]]\n",
            "Slice\n",
            "[[0.53366042 0.87548025]\n",
            " [0.87863997 0.88483675]]\n"
          ]
        }
      ]
    },
    {
      "cell_type": "markdown",
      "source": [
        "### Ejercicio 3\n",
        "\n",
        "En base al arreglo de numpy **aleatorios** proponer un slice que obtenga el siguiente arreglo\n",
        "\n",
        "```\n",
        "array([[0.8990746 , 0.47966254, 0.02385993],\n",
        "       [0.42318332, 0.17149375, 0.60733069]])\n",
        "```\n",
        "\n",
        "\n"
      ],
      "metadata": {
        "id": "f70PQ6zAaIdb"
      }
    },
    {
      "cell_type": "code",
      "source": [
        ""
      ],
      "metadata": {
        "id": "Tquc7m4bbHYr"
      },
      "execution_count": null,
      "outputs": []
    },
    {
      "cell_type": "markdown",
      "source": [
        "## Concatenar arreglos de numpy (np.concatenate)\n",
        "\n",
        "[Referencia a la documentación](https://numpy.org/doc/stable/reference/generated/numpy.concatenate.html)\n",
        "\n",
        "Es posible \"pegar\" dos o más arreglos, por alguno de sus indices."
      ],
      "metadata": {
        "id": "0JxkgVt9XpW1"
      }
    },
    {
      "cell_type": "code",
      "source": [
        "# Concatenar arreglos unidimensionales puede generar un arreglo unidimensional\n",
        "arreglo1 = np.array([1,2,3,4,5,6])\n",
        "arreglo2 = arreglo1 * 2\n",
        "arreglo3 = arreglo1 + 10\n",
        "\n",
        "arreglo_final = np.concatenate([arreglo1, arreglo2, arreglo3])\n",
        "arreglo_final"
      ],
      "metadata": {
        "colab": {
          "base_uri": "https://localhost:8080/"
        },
        "id": "u4LLtvTuXsMq",
        "outputId": "1ca0fc72-988e-4904-dc36-f7e2cd1d2ddc"
      },
      "execution_count": null,
      "outputs": [
        {
          "output_type": "execute_result",
          "data": {
            "text/plain": [
              "array([ 1,  2,  3,  4,  5,  6,  2,  4,  6,  8, 10, 12, 11, 12, 13, 14, 15,\n",
              "       16])"
            ]
          },
          "metadata": {},
          "execution_count": 72
        }
      ]
    },
    {
      "cell_type": "code",
      "source": [
        "# Pero tambien puede generar arreglos de 2 dimensiones\n",
        "arreglo1 = arreglo1.reshape(2,3)\n",
        "arreglo2 = arreglo2.reshape(2,3)\n",
        "arreglo3 = arreglo3.reshape(2,3)\n",
        "arreglo_final = np.concatenate([arreglo1, arreglo2, arreglo3],axis=1)\n",
        "arreglo_final"
      ],
      "metadata": {
        "colab": {
          "base_uri": "https://localhost:8080/"
        },
        "id": "mH2uRO3jYx4n",
        "outputId": "651bf67e-59a9-40c1-b914-120b277518f7"
      },
      "execution_count": null,
      "outputs": [
        {
          "output_type": "execute_result",
          "data": {
            "text/plain": [
              "array([[ 1,  2,  3,  2,  4,  6, 11, 12, 13],\n",
              "       [ 4,  5,  6,  8, 10, 12, 14, 15, 16]])"
            ]
          },
          "metadata": {},
          "execution_count": 75
        }
      ]
    },
    {
      "cell_type": "markdown",
      "source": [
        "### Ejercicio 4\n",
        "\n",
        "Realiza un código para producir un arreglo de numpy con el siguiente contenido:\n",
        "\n",
        "<img src=\"https://i.ibb.co/wMhgr7j/matrix2.png\" width=\"300\">"
      ],
      "metadata": {
        "id": "jw1lijaGZl9M"
      }
    },
    {
      "cell_type": "code",
      "source": [
        ""
      ],
      "metadata": {
        "id": "RIxML-45aA9Q"
      },
      "execution_count": null,
      "outputs": []
    },
    {
      "cell_type": "markdown",
      "source": [
        "## ¿Quiero aprender más?\n",
        "<img src=\"https://images-na.ssl-images-amazon.com/images/I/515XdK-YtFL._SX379_BO1,204,203,200_.jpg\" width=\"300\">"
      ],
      "metadata": {
        "id": "wU4-2DHqJlJN"
      }
    }
  ]
}